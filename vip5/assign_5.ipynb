{
 "cells": [
  {
   "cell_type": "code",
   "execution_count": null,
   "id": "54c0ac0e",
   "metadata": {
    "scrolled": true
   },
   "outputs": [],
   "source": [
    "import numpy as np\n",
    "import random\n",
    "import skimage.data as da\n",
    "import matplotlib.pyplot as plt\n",
    "\n",
    "# TODO: load images from absalon\n",
    "image = da.camera()"
   ]
  },
  {
   "cell_type": "code",
   "execution_count": null,
   "id": "b55e9600",
   "metadata": {},
   "outputs": [],
   "source": [
    "# inspiration taken from here: https://datasciencelab.wordpress.com/tag/lloyds-algorithm/\n",
    "def lloyd(img, k):\n",
    "    cluster = {}\n",
    "    \n",
    "    # TODO: actually make the algorithm pick two random point\n",
    "    # initialize two random centroids\n",
    "    old_cent = random.sample(img, k)\n",
    "    new_cent = random.sample(img, k)\n",
    "    \n",
    "    # initialize keys in cluster dict\n",
    "    for k in old_cent:\n",
    "        cluster[k] = []\n",
    "    \n",
    "    # as long as old centroids and new centroids aren't the same:\n",
    "    while not old_cent == new_cent:\n",
    "        old_cent = new_cent\n",
    "        # assign points to the new centroid\n",
    "        cluster = assign_cent(cluster)\n",
    "        # compute new centroids according to the cluster\n",
    "        new_cent = make_new_center(cluster)\n",
    "    \n",
    "    return cluster\n",
    "\n",
    "def assign_cent(img):\n",
    "    cluster = {}\n",
    "    for point in img:\n",
    "        \n",
    "        # find the nearest center for every point in the image\n",
    "        near_cent = min([(i[0], np.linalg.norm(point-img[i[0]])) for i in enumerate(img)], key=lambda t:t[1])[0]\n",
    "        \n",
    "        # add this point to its according new key in the cluster dict\n",
    "        if cluster[near_cent]:\n",
    "            cluster[near_cent].append(point)\n",
    "        else:\n",
    "            cluster[near_cent] = [point]\n",
    "    \n",
    "    return cluster\n",
    "    \n",
    "def make_new_center(data_cluster):\n",
    "    new_cents = []\n",
    "    keys = sorted(img.keys())\n",
    "    # get mean for every key in the cluster\n",
    "    for k in keys:\n",
    "        new_cents.append(np.mean(data_cluster[k], axis = 0))\n",
    "    return new_cents"
   ]
  },
  {
   "cell_type": "code",
   "execution_count": null,
   "id": "d5c53492",
   "metadata": {},
   "outputs": [],
   "source": [
    "lloyd_img = lloyd(image, 2)\n",
    "fig, ax = plt.subplots(1,2,figsize=(15,5))\n",
    "\n",
    "ax[0].imshow(image)\n",
    "ax[1].imshow(lloyd_img)\n",
    "plt.show()"
   ]
  },
  {
   "cell_type": "code",
   "execution_count": null,
   "id": "f9b47564",
   "metadata": {},
   "outputs": [],
   "source": [
    "from skimage.filters import threshold_otsu\n",
    "\n",
    "thresh = threshold_otsu(image)\n",
    "otsu = image > thresh\n",
    "\n",
    "fig, ax = plt.subplots(1,2,figsize=(15,5))\n",
    "ax[0].imshow(image,cmap='gray')\n",
    "ax[0].set_title('Original')\n",
    "ax[1].imshow(otsu,cmap='gray')\n",
    "ax[1].set_title('Otsu')\n",
    "plt.show()"
   ]
  },
  {
   "cell_type": "markdown",
   "id": "8dec723a",
   "metadata": {},
   "source": [
    "# "
   ]
  },
  {
   "cell_type": "code",
   "execution_count": null,
   "id": "3a191c79",
   "metadata": {},
   "outputs": [],
   "source": []
  }
 ],
 "metadata": {
  "kernelspec": {
   "display_name": "Python 3",
   "language": "python",
   "name": "python3"
  },
  "language_info": {
   "codemirror_mode": {
    "name": "ipython",
    "version": 3
   },
   "file_extension": ".py",
   "mimetype": "text/x-python",
   "name": "python",
   "nbconvert_exporter": "python",
   "pygments_lexer": "ipython3",
   "version": "3.8.8"
  }
 },
 "nbformat": 4,
 "nbformat_minor": 5
}
