{
 "cells": [
  {
   "cell_type": "code",
   "execution_count": 1,
   "id": "54c0ac0e",
   "metadata": {
    "scrolled": true
   },
   "outputs": [],
   "source": [
    "import numpy as np\n",
    "import random\n",
    "import skimage.data as da\n",
    "import matplotlib.pyplot as plt\n",
    "import cv2\n",
    "\n",
    "# TODO: load images from absalon\n",
    "image = da.camera()"
   ]
  },
  {
   "cell_type": "code",
   "execution_count": 2,
   "id": "b55e9600",
   "metadata": {},
   "outputs": [],
   "source": [
    "# inspiration taken from here: https://datasciencelab.wordpress.com/tag/lloyds-algorithm/\n",
    "def lloyd(img, k):\n",
    "    \n",
    "    # the idea here is to create a dict in which the keys are both cluster centroids\n",
    "    # and the respective values are the indices of the picture\n",
    "    cluster = {}\n",
    "    \n",
    "    # first, let's initialize a list of random centroids\n",
    "    old_cent = []\n",
    "    new_cent = random.sample(list(img[0]), k)\n",
    "        \n",
    "    # initialize keys in cluster dict\n",
    "    for k in new_cent:\n",
    "        cluster[k] = []\n",
    "        \n",
    "    # as long as old centroids and new centroids aren't the same:\n",
    "    while not np.array_equal(old_cent, new_cent):\n",
    "        old_cent = new_cent\n",
    "        # assign points to the new centroid\n",
    "        cluster = assign_cent(old_cent, img)\n",
    "        # compute new centroids according to the cluster\n",
    "        new_cent = make_new_center(cluster)\n",
    "        \n",
    "    # now we have all clustered values in a dict and just have to\n",
    "    # convert this into a picture\n",
    "    for k in cluster.keys():\n",
    "        for i in cluster[k]:\n",
    "            img[i] = k\n",
    "    \n",
    "    # it doesn't return a modified image yet\n",
    "    return img\n",
    "\n",
    "# with cents == list of all centroids and \n",
    "# img == image to be centroided\n",
    "def assign_cent(cents, img):\n",
    "    \n",
    "    new_cluster = {}\n",
    "    min_dis = len(img)**2\n",
    "    near_cent = 0\n",
    "        \n",
    "    # iter over every point in the image\n",
    "    for i in range(np.size(img,0)):\n",
    "        for j in range(np.size(img,1)):\n",
    "            temp_arr = []\n",
    "\n",
    "            # find the nearest center for this point by iterating\n",
    "            # through the cenroids and calculating their distance to centroid\n",
    "            for cent in cents:\n",
    "                temp = int((cent - img[i][j]))**2\n",
    "                if temp < min_dis:\n",
    "                    min_dis = temp\n",
    "                    near_cent = cent\n",
    "\n",
    "                    # nearest centroid is always the same WHY?\n",
    "                    near_cent = cent\n",
    "\n",
    "            # add this point according new key in the cluster dict\n",
    "            if near_cent in new_cluster:\n",
    "                new_cluster[near_cent].append((i, j))\n",
    "            else:\n",
    "                new_cluster[near_cent] = [(i, j)]\n",
    "    \n",
    "    return new_cluster\n",
    "    \n",
    "def make_new_center(data_cluster):\n",
    "    new_cents = []\n",
    "    keys = sorted(data_cluster.keys())\n",
    "    # get mean for every key in the cluster\n",
    "    for k in keys:\n",
    "        print()\n",
    "        new_cents.append(np.mean(data_cluster[k]))\n",
    "    \n",
    "    return new_cents"
   ]
  },
  {
   "cell_type": "code",
   "execution_count": 3,
   "id": "d5c53492",
   "metadata": {},
   "outputs": [
    {
     "name": "stderr",
     "output_type": "stream",
     "text": [
      "<ipython-input-2-33ee46709c41>:49: RuntimeWarning: overflow encountered in ubyte_scalars\n",
      "  temp = int((cent - img[i][j]))**2\n"
     ]
    },
    {
     "name": "stdout",
     "output_type": "stream",
     "text": [
      "\n",
      "\n",
      "\n",
      "\n",
      "\n",
      "\n"
     ]
    },
    {
     "data": {
      "image/png": "[encoded data removed]",
      "text/plain": [
       "<Figure size 1080x360 with 2 Axes>"
      ]
     },
     "metadata": {
      "needs_background": "light"
     },
     "output_type": "display_data"
    }
   ],
   "source": [
    "lloyd_img = lloyd(image, 2)\n",
    "fig, ax = plt.subplots(1,2,figsize=(15,5))\n",
    "\n",
    "ax[0].imshow(image)\n",
    "ax[1].imshow(lloyd_img)\n",
    "plt.show()"
   ]
  },
  {
   "cell_type": "code",
   "execution_count": null,
   "id": "f9b47564",
   "metadata": {},
   "outputs": [],
   "source": [
    "from skimage.filters import threshold_otsu\n",
    "\n",
    "thresh = threshold_otsu(image)\n",
    "otsu = image > thresh\n",
    "\n",
    "fig, ax = plt.subplots(1,2,figsize=(15,5))\n",
    "ax[0].imshow(image,cmap='gray')\n",
    "ax[0].set_title('Original')\n",
    "ax[1].imshow(otsu,cmap='gray')\n",
    "ax[1].set_title('Otsu')\n",
    "plt.show()"
   ]
  },
  {
   "cell_type": "markdown",
   "id": "8dec723a",
   "metadata": {},
   "source": [
    "# "
   ]
  },
  {
   "cell_type": "code",
   "execution_count": null,
   "id": "3a191c79",
   "metadata": {},
   "outputs": [],
   "source": []
  }
 ],
 "metadata": {
  "kernelspec": {
   "display_name": "Python 3",
   "language": "python",
   "name": "python3"
  },
  "language_info": {
   "codemirror_mode": {
    "name": "ipython",
    "version": 3
   },
   "file_extension": ".py",
   "mimetype": "text/x-python",
   "name": "python",
   "nbconvert_exporter": "python",
   "pygments_lexer": "ipython3",
   "version": "3.8.8"
  }
 },
 "nbformat": 4,
 "nbformat_minor": 5
}
