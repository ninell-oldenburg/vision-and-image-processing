{
 "cells": [
  {
   "cell_type": "markdown",
   "id": "2f73d239",
   "metadata": {},
   "source": [
    "   \n",
    "   #### Canny (or similar) edge detection\n",
    "    Describe the parameter values and their impact on the result. Select what you think is a set of good parameter values, apply, show and decribe the result."
   ]
  },
  {
   "cell_type": "markdown",
   "id": "49ea6773",
   "metadata": {},
   "source": [
    "    The Canny edge detector consists of multiple steps: \n",
    "    - Smoothing with a Gaussian kernel\n",
    "    - Calculating the gradient magnitudes\n",
    "    - Non-maximum suppression \n",
    "    - Hysterisis thresholding \n",
    "\n",
    "    The Gaussian smoothing kernel reduces noise, and has already been described previously. After an image has been smoothed, the Sobel operator is applied to find the gradients in the picture. Its gradient magnitudes are found by taking the derivative of the x- and y-gradients. As shown in the section \"Gradient magnitude computation using Gaussian derivatives\", resulting edges can span multiple pixels. These edges can be reduced to span a single pixel with non-maximum suppression. If the gradient of a pixel is greater than the two pixel gradients in its gradient direction, its value is kept, otherwise it is set to 0. Thereby, the only the largest gradient across an edge is kept. In order to find edges that are connected, the hysterisis thresholding is applied. Here, all pixel intensities below the lower threshold are discarded as edges. All intensities above the upper threshold are kept. Then only pixels that are connected to high threshold pixel intensities are kept (Canny, 1986; Forsyth & Ponce, 2011). \n",
    "\n",
    "    In sum, multiple parameters affect the resulting number and type of contours extracted with the edge detection. Firstly, we can set the scale value in the Gaussian kernel differently and achieve more or less blurry images as shown above. Secondly, the chosen low and high threshold in hysterisis threshold determines which edgelines are discarded. Below we test both different scale and threshold values, and their interaction. \n",
    "    \n",
    "    \n",
    "    Canny, J. (1986). A computational approach to edge detection. IEEE Transactions on pattern analysis and machine intelligence, (6), 679-698.\n",
    "    \n",
    "    Forsyth, D., & Ponce, J. (2011). Computer vision: A modern approach (p. 792). Prentice hall."
   ]
  },
  {
   "cell_type": "code",
   "execution_count": 3,
   "id": "4169bb1a",
   "metadata": {},
   "outputs": [],
   "source": [
    "#!pip install opencv-python\n",
    "import skimage\n",
    "from skimage.io import imread\n",
    "from cv2 import Canny\n",
    "from scipy import ndimage\n",
    "import numpy as np\n",
    "import matplotlib.pyplot as plt\n",
    "from skimage import img_as_float\n",
    "lenna = imread(\"lenna.jpg\").astype(\"float\")\n"
   ]
  },
  {
   "cell_type": "code",
   "execution_count": null,
   "id": "46e33b73",
   "metadata": {},
   "outputs": [],
   "source": [
    "# Scale and threshold values\n",
    "scales = [1, 2, 4, 8]\n",
    "low = np.percentile(cv2lenna, 5)\n",
    "high = np.percentile(cv2lenna, 65)\n",
    "\n",
    "# Define axes properties\n",
    "fig, axes = plt.subplots(nrows=2, ncols=2, figsize=(10,10))\n",
    "ax_list = axes.flatten()\n",
    "\n",
    "# Going through axes and scale values\n",
    "for ax, scale in zip(ax_list, scales):\n",
    "    # Smoothing\n",
    "    smoothed = ndimage.gaussian_filter(cv2lenna,\n",
    "                        scale, # standard deviation for Gaussian kernel\n",
    "                        order=0, # An order of 0 corresponds to convolution with a Gaussian kernel. A positive order corresponds to convolution with that derivative of a Gaussian.\n",
    "                        output=None, # The array in which to place the output, or the dtype of the returned array. By default an array of the same dtype as input will be created.\n",
    "                        mode='reflect', # ‘reflect’, ‘constant’, ‘nearest’, ‘mirror’, ‘wrap’\n",
    "                        cval=0.0, # Value to fill past edges of input if mode is ‘constant’. Default is 0.0.\n",
    "                        truncate=4.0) # Truncate the filter at this many standard deviations. Default is 4.0.\n",
    "    canny = Canny(smoothed, low, high) \n",
    "    ax.imshow(canny);\n",
    "    ax.set_title(f\"Scale: {scale}\")\n",
    "\n",
    "plt.show()\n",
    "    "
   ]
  },
  {
   "cell_type": "markdown",
   "id": "6c745b95",
   "metadata": {},
   "source": [
    "    It is clear that, as scale increases and more pixels are influencing the output, fewer edges are detected using the Canny operator. In other words, only the coarser and stronger edge features are detected when scale is high while finer features and less strong edges are found with lower scale values. The scale seems highly influential on the number of edges detected and too large scales result in no edges detected. "
   ]
  },
  {
   "cell_type": "markdown",
   "id": "6f360c00",
   "metadata": {},
   "source": [
    "    Next, we experiment with the values in the hysterisis thresholds. We define different threshold values using percentile values of the pixel intensity distribution in the image. We test the combination between low threshold values of 17, 30 and 59 and high threshold values of 128, 149 and 202"
   ]
  },
  {
   "cell_type": "code",
   "execution_count": null,
   "id": "f713a48d",
   "metadata": {},
   "outputs": [],
   "source": [
    "# Create a vector from image pixels\n",
    "flattened = cv2lenna.flatten()\n",
    "\n",
    "# Creating figure\n",
    "fig, ax = plt.subplots(figsize = (6,4))\n",
    "\n",
    "# Defining low and high threshold values by their percentiles\n",
    "low_thresh = np.array([np.percentile(cv2lenna, 5),np.percentile(cv2lenna, 15),np.percentile(cv2lenna, 25)])\n",
    "high_thresh = np.array([np.percentile(cv2lenna, 65),np.percentile(cv2lenna, 80),np.percentile(cv2lenna, 95)])\n",
    "perc = np.array([5,15,25,65,80,95])\n",
    "\n",
    "# Histogram of pixel intensities\n",
    "plt.hist(flattened, alpha = 0.5, bins = 30)\n",
    "\n",
    "# Take every percentile value, and its percentile number\n",
    "for i, p in zip(np.concatenate((low_thresh, high_thresh), axis=None), perc):\n",
    "    # Adding vertical line \n",
    "    ax.axvline(i, linestyle = \"-\", color = \"Forestgreen\") \n",
    "    # Adding text\n",
    "    ax.text(i+2, # To create distance to vline\n",
    "            1, # Y value\n",
    "            s = f\" {p}th percentile: {int(i)}\", # Text\n",
    "            rotation=90, # Rotation\n",
    "            va='bottom') # Position of text\n",
    "\n",
    "plt.title(\"Percentiles\")\n",
    "plt.show()"
   ]
  },
  {
   "cell_type": "code",
   "execution_count": null,
   "id": "5be7bd0d",
   "metadata": {},
   "outputs": [],
   "source": [
    "cv2lenna = cv2.imread(\"lenna.jpg\")\n",
    "\n",
    "# Constant scale value\n",
    "scale = 2\n",
    "\n",
    "# Smoothing using the Gaussian kernel\n",
    "smoothed = ndimage.gaussian_filter(cv2lenna,\n",
    "                        scale, # standard deviation for Gaussian kernel\n",
    "                        order=0, # An order of 0 corresponds to convolution with a Gaussian kernel. A positive order corresponds to convolution with that derivative of a Gaussian.\n",
    "                        output=None, # The array in which to place the output, or the dtype of the returned array. By default an array of the same dtype as input will be created.\n",
    "                        mode='reflect', # ‘reflect’, ‘constant’, ‘nearest’, ‘mirror’, ‘wrap’\n",
    "                        cval=0.0, # Value to fill past edges of input if mode is ‘constant’. Default is 0.0.\n",
    "                        truncate=4.0) # Truncate the filter at this many standard deviations. Default is 4.0.\n",
    "\n",
    "\n",
    "# Defining the thresholds in the hysterisis\n",
    "low_thresh = np.array([5,15,25])\n",
    "high_thresh = np.array([65, 80, 95])\n",
    "\n",
    "# Iterating through combinations of thresholds\n",
    "combi = []\n",
    "for i in low_thresh:\n",
    "    for j in high_thresh:\n",
    "        combi.append([i,j])\n",
    "        \n",
    "# Figure properties\n",
    "fig, axes = plt.subplots(nrows=len(low_thresh), ncols=len(high_thresh), figsize=(10,10))\n",
    "ax_list = axes.flatten()\n",
    "\n",
    "# Hysterisis thresholding   \n",
    "for ax, thresholds in zip(ax_list, combi):\n",
    "    canny = Canny(smoothed, np.percentile(cv2lenna, thresholds[0]), np.percentile(cv2lenna, thresholds[1]))\n",
    "    ax.imshow(canny)\n",
    "    ax.set_title(f\"Threshold: lower = {thresholds[0]}, upper = {thresholds[1]}\", fontsize = 10)\n",
    "    "
   ]
  },
  {
   "cell_type": "markdown",
   "id": "0c6826f7",
   "metadata": {},
   "source": [
    "    In general, most edges contain a high pixel value (Canny, 1986), which could be the reason why few changes apply with low thresholds at 5th and 15th percentile. More severe changes are seen with higher upper thresholds; while many of the same contours are kept at 65th and 80th percentile value, an upper threshold at the 95th results in few but essential contours containing the profile of the object but much less detail."
   ]
  },
  {
   "cell_type": "markdown",
   "id": "7b9d74e6",
   "metadata": {},
   "source": [
    "    The final image will be processed with a scale value of 2, a low edge threshold at the 15th percentile, i.e. at a value of 30, and a high edge threshold at the 80th percentile, i.e. at 149.\n",
    "    Some code are inspired from my exam in Visual Analytics (https://github.com/marmor97/cds-visual-exam/tree/main/src/1)."
   ]
  },
  {
   "cell_type": "code",
   "execution_count": null,
   "id": "5e8a1f7c",
   "metadata": {},
   "outputs": [],
   "source": [
    "scale = 2\n",
    "low = np.percentile(cv2lenna, 15)\n",
    "high = np.percentile(cv2lenna, 80)\n",
    "\n",
    "fig, axes = plt.subplots(nrows=1, ncols=2, figsize=(10,10))\n",
    "\n",
    "\n",
    "smoothed = ndimage.gaussian_filter(cv2lenna,\n",
    "                    scale, # standard deviation for Gaussian kernel\n",
    "                    order=0, # An order of 0 corresponds to convolution with a Gaussian kernel. A positive order corresponds to convolution with that derivative of a Gaussian.\n",
    "                    output=None, # The array in which to place the output, or the dtype of the returned array. By default an array of the same dtype as input will be created.\n",
    "                    mode='reflect', # ‘reflect’, ‘constant’, ‘nearest’, ‘mirror’, ‘wrap’\n",
    "                    cval=0.0, # Value to fill past edges of input if mode is ‘constant’. Default is 0.0.\n",
    "                    truncate=4.0) # Truncate the filter at this many standard deviations. Default is 4.0.\n",
    "\n",
    "canny = Canny(smoothed, low, high) \n",
    "axes[0].imshow(canny)\n",
    "\n",
    "# And on top of the original image\n",
    "# Defining the contours in the image\n",
    "(contours,_) = cv2.findContours(canny.copy(), # using np function to make a copy rather than destroying the image itself\n",
    "                 cv2.RETR_EXTERNAL, \n",
    "                 cv2.CHAIN_APPROX_SIMPLE) \n",
    "\n",
    "drawn = cv2.drawContours(\n",
    "                 cv2lenna.copy(), # image, contours, fill, color, thickness\n",
    "                 contours,\n",
    "                 -1, # whihch contours to draw. -1 will draw contour for every contour that it finds\n",
    "                 (255,0,0), # contour color\n",
    "                 1) # Thickness\n",
    "axes[1].imshow(drawn)\n",
    "\n",
    "\n",
    "plt.show()\n",
    "\n"
   ]
  }
 ],
 "metadata": {
  "kernelspec": {
   "display_name": "Python 3",
   "language": "python",
   "name": "python3"
  },
  "language_info": {
   "codemirror_mode": {
    "name": "ipython",
    "version": 3
   },
   "file_extension": ".py",
   "mimetype": "text/x-python",
   "name": "python",
   "nbconvert_exporter": "python",
   "pygments_lexer": "ipython3",
   "version": "3.8.8"
  }
 },
 "nbformat": 4,
 "nbformat_minor": 5
}
